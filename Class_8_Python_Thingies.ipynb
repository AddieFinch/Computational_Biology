{
 "cells": [
  {
   "cell_type": "code",
   "execution_count": 2,
   "metadata": {},
   "outputs": [],
   "source": [
    "import numpy as np\n",
    "import matplotlib.pyplot as plt"
   ]
  },
  {
   "cell_type": "code",
   "execution_count": 3,
   "metadata": {},
   "outputs": [
    {
     "data": {
      "text/plain": [
       "array([[0., 0., 0.],\n",
       "       [0., 0., 0.],\n",
       "       [0., 0., 0.],\n",
       "       [0., 0., 0.],\n",
       "       [0., 0., 0.]])"
      ]
     },
     "execution_count": 3,
     "metadata": {},
     "output_type": "execute_result"
    }
   ],
   "source": [
    "a = np.zeros((5,3))\n",
    "a"
   ]
  },
  {
   "cell_type": "code",
   "execution_count": 4,
   "metadata": {},
   "outputs": [
    {
     "data": {
      "text/plain": [
       "(5, 3)"
      ]
     },
     "execution_count": 4,
     "metadata": {},
     "output_type": "execute_result"
    }
   ],
   "source": [
    "a.shape"
   ]
  },
  {
   "cell_type": "code",
   "execution_count": 5,
   "metadata": {},
   "outputs": [
    {
     "data": {
      "text/plain": [
       "array([[1, 2, 3],\n",
       "       [4, 5, 6]])"
      ]
     },
     "execution_count": 5,
     "metadata": {},
     "output_type": "execute_result"
    }
   ],
   "source": [
    "c = np.array([[1,2,3],[4,5,6]])\n",
    "c"
   ]
  },
  {
   "cell_type": "code",
   "execution_count": 7,
   "metadata": {},
   "outputs": [
    {
     "name": "stdout",
     "output_type": "stream",
     "text": [
      "5\n",
      "[4 5 6]\n",
      "[2 5]\n",
      "[5 6]\n"
     ]
    }
   ],
   "source": [
    "print(c[1,1])\n",
    "#If I want the first (python-first, so 0-indexed) row?\n",
    "print(c[1,:]) \n",
    "#First column\n",
    "print(c[:,1])\n",
    "#What if I want the end of the first row? Say, from the middle to the end?\n",
    "print(c[1,1:]) #This is fun! We fix the row number and we use a slice for the columns. "
   ]
  },
  {
   "cell_type": "code",
   "execution_count": null,
   "metadata": {},
   "outputs": [],
   "source": []
  },
  {
   "cell_type": "code",
   "execution_count": 20,
   "metadata": {},
   "outputs": [
    {
     "name": "stdout",
     "output_type": "stream",
     "text": [
      "[[0. 0. 0.]\n",
      " [0. 0. 0.]\n",
      " [0. 0. 0.]\n",
      " [0. 0. 0.]\n",
      " [0. 0. 0.]]\n",
      "make the spiderman cast shadow\n",
      "[[  0.   0.   0.]\n",
      " [  0. 777.   0.]\n",
      " [  0. 111.   0.]\n",
      " [  0.   1.   1.]\n",
      " [  0.   1.   1.]]\n",
      "the new truth\n",
      "yet another attempt, [[  0.   0.   0.]\n",
      " [777. 777.   0.]\n",
      " [111. 111.   0.]\n",
      " [  2.   1.   1.]\n",
      " [  2.   1.   1.]]\n"
     ]
    }
   ],
   "source": [
    "#Back to a larger structure\n",
    "a = np.zeros((5,3))\n",
    "print(a)\n",
    "a[1,1] = 777 #One particular element\n",
    "a[-2:, -2:] = 1 #Bottom right corner\n",
    "\n",
    "print('make the spiderman cast shadow')\n",
    "a[2, :] = a[1,:]/7 # Make the human-third (python-2ns)\n",
    "print(a)\n",
    "\n",
    "# Make 0-th column the sum of the other two\n",
    "#Manually\n",
    "a[:,0] = a[:,1] + a[:,2]\n",
    "print('the new truth')\n",
    "\n",
    "#Another: smarter way\n",
    "a[:,0] = np.sum(a[:,1:], axis=1) #in this case, don't forget to tell that you want horizontal squishing\n",
    "print('yet another attempt,', a)"
   ]
  },
  {
   "cell_type": "code",
   "execution_count": null,
   "metadata": {},
   "outputs": [],
   "source": []
  }
 ],
 "metadata": {
  "kernelspec": {
   "display_name": "Python 3",
   "language": "python",
   "name": "python3"
  },
  "language_info": {
   "codemirror_mode": {
    "name": "ipython",
    "version": 3
   },
   "file_extension": ".py",
   "mimetype": "text/x-python",
   "name": "python",
   "nbconvert_exporter": "python",
   "pygments_lexer": "ipython3",
   "version": "3.7.4"
  }
 },
 "nbformat": 4,
 "nbformat_minor": 2
}
