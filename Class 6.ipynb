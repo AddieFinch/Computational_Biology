{
 "cells": [
  {
   "cell_type": "code",
   "execution_count": 1,
   "metadata": {},
   "outputs": [],
   "source": [
    "import numpy as np\n",
    "import matplotlib.pyplot as plt"
   ]
  },
  {
   "cell_type": "code",
   "execution_count": null,
   "metadata": {},
   "outputs": [],
   "source": [
    "nsteps = 10\n",
    "\n",
    "a = 1\n",
    "b = 1\n",
    "c = 0.5\n",
    "d = 1\n",
    "\n",
    "dt = 0.001\n",
    "\n",
    "x = np.zeros(nsteps)\n",
    "y = np.zeros(nsteps)\n",
    "\n",
    "x[0] = 1\n",
    "y[0] = 1\n",
    "\n",
    "for t in range(1, nsteps):\n",
    "    x[t] = x[t-1] + dt * (a*x[t-1] - b*x[t-1] * y[t-1]) #[t-1] because you are multiplying by the previous step!\n",
    "    y[t] = x[t-1] + dt * (c*x[t-1]*y[t-1] - d*y[t-1])\n",
    "    \n",
    "fig = plt.figure()\n",
    "plt.plot(x, label = \"Bunnies\");\n",
    "plt.plot(y, label = \"Foxes\");"
   ]
  },
  {
   "cell_type": "code",
   "execution_count": null,
   "metadata": {},
   "outputs": [],
   "source": []
  },
  {
   "cell_type": "code",
   "execution_count": null,
   "metadata": {},
   "outputs": [],
   "source": []
  }
 ],
 "metadata": {
  "kernelspec": {
   "display_name": "Python 3",
   "language": "python",
   "name": "python3"
  },
  "language_info": {
   "codemirror_mode": {
    "name": "ipython",
    "version": 3
   },
   "file_extension": ".py",
   "mimetype": "text/x-python",
   "name": "python",
   "nbconvert_exporter": "python",
   "pygments_lexer": "ipython3",
   "version": "3.7.4"
  }
 },
 "nbformat": 4,
 "nbformat_minor": 2
}
