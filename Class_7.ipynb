{
 "cells": [
  {
   "cell_type": "code",
   "execution_count": 1,
   "metadata": {},
   "outputs": [],
   "source": [
    "import numpy as np\n",
    "import matplotlib.pyplot as plt"
   ]
  },
  {
   "cell_type": "code",
   "execution_count": 2,
   "metadata": {},
   "outputs": [
    {
     "data": {
      "text/plain": [
       "(array([14., 15., 17., 15.,  9., 11.,  9.,  6.,  2.,  2.]),\n",
       " array([0.78 , 0.841, 0.902, 0.963, 1.024, 1.085, 1.146, 1.207, 1.268,\n",
       "        1.329, 1.39 ]),\n",
       " <a list of 10 Patch objects>)"
      ]
     },
     "execution_count": 2,
     "metadata": {},
     "output_type": "execute_result"
    },
    {
     "data": {
      "image/png": "[encoded data removed]",
      "text/plain": [
       "<Figure size 432x288 with 1 Axes>"
      ]
     },
     "metadata": {
      "needs_background": "light"
     },
     "output_type": "display_data"
    }
   ],
   "source": [
    "#BASIC MODEL\n",
    "\n",
    "n_people = 100\n",
    "n_steps = 10000\n",
    "coin = 0.01\n",
    "\n",
    "wealth = np.ones(n_people) #wealth is an array of many variables → this will be your x axis on a histogram\n",
    "\n",
    "for t in range(n_steps):\n",
    "    p1=np.random.randint(low = 0, high = n_people)\n",
    "    p2=np.random.randint(low = 0, high = n_people)\n",
    "    if wealth[p1] > 0:\n",
    "        wealth[p1] -= coin\n",
    "        wealth[p2] += coin\n",
    "\n",
    "plt.hist(wealth)"
   ]
  },
  {
   "cell_type": "code",
   "execution_count": 5,
   "metadata": {},
   "outputs": [
    {
     "data": {
      "image/png": "[encoded data removed]",
      "text/plain": [
       "<Figure size 432x288 with 2 Axes>"
      ]
     },
     "metadata": {
      "needs_background": "light"
     },
     "output_type": "display_data"
    }
   ],
   "source": [
    "#REMEMBER EVERYTHING\n",
    "\n",
    "n_people = 100\n",
    "n_steps = 10000\n",
    "trades_per_step = 10\n",
    "coin = 0.1\n",
    "interest = 0.001\n",
    "\n",
    "wealth = np.ones(shape=(n_steps, n_people))\n",
    "\n",
    "for t in range(1,n_steps):\n",
    "    wealth[t,:] = wealth[t-1,:] * 1*interest\n",
    "    for i in range(trades_per_step):\n",
    "        p1=np.random.randint(low = 0, high = n_people)\n",
    "        p2=np.random.randint(low = 0, high = n_people)\n",
    "    if wealth[t,p1] > 0:\n",
    "        wealth[t,p1] = -coin\n",
    "        wealth[t,p2] = +coin\n",
    "        \n",
    "plt.subplot(1,2,1);\n",
    "poor_one = np.argmin(wealth[-1,:])\n",
    "rich_one = np.argmax(wealth[-1, :])\n",
    "plt.plot(wealth[:, poor_one])\n",
    "plt.plot(wealth[:, rich_one])\n",
    "plt.hist(wealth [-1, :]);\n",
    "plt.subplot(1,2,2);\n",
    "plt.plot(wealth[:,0]);\n"
   ]
  },
  {
   "cell_type": "code",
   "execution_count": null,
   "metadata": {},
   "outputs": [],
   "source": [
    "#Homework: Implement taxation (Arseny will show Gini coefficient)\n",
    "#Add taxation and see how the final gini coefficient changes as you change taxation rate"
   ]
  },
  {
   "cell_type": "code",
   "execution_count": null,
   "metadata": {},
   "outputs": [],
   "source": [
    "# Define a function to calculate Gini coefficient\n",
    "def gini(x):\n",
    "    y - np.sort(x) #We need to sort them by wealth\n",
    "    upper_sum = 0\n",
    "     n = len()\n",
    "    for i in range(len(y)): \n",
    "        upper_sum += (i+1)*y[i]\n",
    "    return 1-2/(n-1)*(n - upper_sum/sum(y))\n",
    "print('This should be 0:', gini[1,1,1,1,])        \n",
    "print('This should be 1:', gini[1,0,0,0])"
   ]
  },
  {
   "cell_type": "code",
   "execution_count": null,
   "metadata": {},
   "outputs": [],
   "source": [
    "#For purpose of next exercise, you will only care about final point. Add taxes (subtract from each person a\n",
    "#portion of their wealth, and then redistribute )\n",
    "#Gini index will be close to 0 if your tax is extreme, and 1 if your tax is 0\n",
    "\n",
    "#one row to add taxes\n",
    "#one row to add giant outer loop that will go through each thing\n",
    "#one row in beginning to add place to store this \n",
    "#one row at end to plot it\n",
    "\n",
    "#UPDATE CODE USING ARSENY'S GINI FUNCTION BECAUSE YOUR'S ISN\"T DONE"
   ]
  }
 ],
 "metadata": {
  "kernelspec": {
   "display_name": "Python 3",
   "language": "python",
   "name": "python3"
  },
  "language_info": {
   "codemirror_mode": {
    "name": "ipython",
    "version": 3
   },
   "file_extension": ".py",
   "mimetype": "text/x-python",
   "name": "python",
   "nbconvert_exporter": "python",
   "pygments_lexer": "ipython3",
   "version": "3.7.4"
  }
 },
 "nbformat": 4,
 "nbformat_minor": 2
}
