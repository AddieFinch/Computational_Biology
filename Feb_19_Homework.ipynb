{
 "cells": [
  {
   "cell_type": "code",
   "execution_count": 1,
   "metadata": {},
   "outputs": [],
   "source": [
    "import numpy as np\n",
    "import matplotlib.pyplot as plt"
   ]
  },
  {
   "cell_type": "code",
   "execution_count": 2,
   "metadata": {},
   "outputs": [
    {
     "data": {
      "image/png": "[encoded data removed]",
      "text/plain": [
       "<Figure size 432x288 with 1 Axes>"
      ]
     },
     "metadata": {
      "needs_background": "light"
     },
     "output_type": "display_data"
    }
   ],
   "source": [
    "# Basic model\n",
    "nsteps = 10000\n",
    "npeople = 100\n",
    "coin = 0.1\n",
    "\n",
    "wealth = np.ones(npeople)                           # Init at equal wealth\n",
    "\n",
    "for t in range(nsteps):\n",
    "    p1 = np.random.randint(low=0, high=npeople)     # Pick 2 random people\n",
    "    p2 = np.random.randint(low=0, high=npeople)     # p1 may end up being equal to p2, but it's not gonna break the script.\n",
    "    if wealth[p1]>0:\n",
    "        wealth[p1] -= coin                          # Decrease this one\n",
    "        wealth[p2] += coin                          # But increase this one\n",
    "        \n",
    "plt.hist(wealth);"
   ]
  },
  {
   "cell_type": "code",
   "execution_count": 3,
   "metadata": {},
   "outputs": [
    {
     "name": "stdout",
     "output_type": "stream",
     "text": [
      "This should be 0: 0.0\n",
      "This should be 1: 1.0\n",
      "This should be something else: 0.6078431372549019\n"
     ]
    }
   ],
   "source": [
    "# Define a function to calculate Gini coefficient\n",
    "def gini(x):\n",
    "    y = np.sort(x) # We need to sort them by wealth\n",
    "    upper_sum = 0\n",
    "    n = len(x)\n",
    "    for i in range(n):\n",
    "        upper_sum += (i+1)*y[i]\n",
    "    return 1-2/(n-1)*( n - upper_sum/sum(y) )\n",
    "\n",
    "# Testing the function:    \n",
    "print('This should be 0:',gini([1,1,1,1]))\n",
    "print('This should be 1:',gini([1,0,0,0]))\n",
    "print('This should be something else:',gini([10,5,1,1]))"
   ]
  },
  {
   "cell_type": "markdown",
   "metadata": {},
   "source": [
    "Below, we'll need to consider the values of tax_rate we tried. As we'll need them for the x-axis. How to do that? \n",
    "\n",
    "3 options!"
   ]
  },
  {
   "cell_type": "markdown",
   "metadata": {},
   "source": [
    "1. Pre-create an array of all possible values and iterate through them. \n",
    "2. Pre-allocate some space, fill it with zeros or something, and write calues there as you go. \n",
    "3. Create an empty array 'np.array([])', then append values to it using a = np.ammend(a, new_value). "
   ]
  },
  {
   "cell_type": "code",
   "execution_count": 29,
   "metadata": {},
   "outputs": [
    {
     "data": {
      "text/plain": [
       "array([0.01, 0.1 ])"
      ]
     },
     "execution_count": 29,
     "metadata": {},
     "output_type": "execute_result"
    }
   ],
   "source": [
    "#figuring out empty arrays\n",
    "a = np.array([]) #empty\n",
    "a = np.append(a, 0.01)\n",
    "a = np.append(a,0.1)\n",
    "a"
   ]
  },
  {
   "cell_type": "code",
   "execution_count": 34,
   "metadata": {},
   "outputs": [
    {
     "ename": "SyntaxError",
     "evalue": "can't assign to function call (<ipython-input-34-98c4529ffecf>, line 31)",
     "output_type": "error",
     "traceback": [
      "\u001b[0;36m  File \u001b[0;32m\"<ipython-input-34-98c4529ffecf>\"\u001b[0;36m, line \u001b[0;32m31\u001b[0m\n\u001b[0;31m    final_gini(i) = gini_history[-1]  #this is how you see the last position in the gini index\u001b[0m\n\u001b[0m    ^\u001b[0m\n\u001b[0;31mSyntaxError\u001b[0m\u001b[0;31m:\u001b[0m can't assign to function call\n"
     ]
    }
   ],
   "source": [
    "# Remember everything, plot the history.\n",
    "\n",
    "nsteps = 2000\n",
    "trades_per_step = 10\n",
    "npeople = 100\n",
    "coin = 0.1\n",
    "interest = 0.000\n",
    "rate = 0.001 #this is the tax rate\n",
    "\n",
    "wealth = np.ones(shape=(nsteps,npeople))\n",
    "gini_history = np.zeros(nsteps)\n",
    "taxrates = np.arange(low=0, high=0.16, step=0.01)\n",
    "final_gini = np.zeros(shape=taxrates.shape)  #shape should be same as the taxrates shape\n",
    "\n",
    "    \n",
    "for irate in (len(taxrates)):\n",
    "    rate = taxrates[itax]\n",
    "    for t in range(1,nsteps):                             # We now start at t=1, to be able to refer to t-1 (prev step) #x value is current value of tax rate, so taxrate_history\n",
    "        wealth[t,:] = wealth[t-1,:]*(1+interest)          # By default, wealth at t remains the same as it was at t-1\n",
    "        collect = rate*np.sum(wealth[t,:])\n",
    "        wealth[t,:] = (1 - rate)*wealth[t,:]\n",
    "        wealth[t,:] += collect/npeople\n",
    "\n",
    "        for i in range(trades_per_step):                  # Let's make more than 2 ppl trade at each time point.\n",
    "            p1 = np.random.randint(low=0, high=npeople)   # (It doesn't change the end solution, just makes plots prettier.\n",
    "            p2 = np.random.randint(low=0, high=npeople)   # It's equivalent to only remembering eath Kth step.)\n",
    "            if wealth[t,p1]>0:\n",
    "                wealth[t,p1] -= coin        # Still update in place\n",
    "                wealth[t,p2] += coin\n",
    "            gini_history[t] = gini(wealth[t,:]) # Calculate gini index for the current distribution of wealth\n",
    "    final_gini(i) = gini_history[-1]  #this is how you see the last position in the gini index\n",
    "    i += 1\n",
    "        \n",
    "\n",
    "# Figures\n",
    "plt.figure(figsize=(15,5))\n",
    "plt.subplot(1,3,1)\n",
    "plt.hist(wealth[-1,:],bins=10);\n",
    "plt.xlabel('Wealth');\n",
    "plt.ylabel('Count');\n",
    "\n",
    "plt.subplot(1,3,2);\n",
    "plt.axhline(1,color='gray')\n",
    "poor_one = np.argmin(wealth[-1,:])\n",
    "rich_one = np.argmax(wealth[-1,:])\n",
    "plt.plot(wealth[:,poor_one]);\n",
    "plt.plot(wealth[:,rich_one]);\n",
    "# plt.hlines(1, 0, nsteps) nah this ugly\n",
    "plt.xlabel('Time');\n",
    "plt.ylabel('Wealth');\n",
    "\n",
    "plt.subplot(1,3,3)\n",
    "plt.plot(gini_history);\n",
    "plt.xlabel('Time');\n",
    "plt.ylabel('Gini index');\n",
    "plt.grid(linestyle = ':');\n",
    "\n",
    "#------Second figure\n",
    "\n",
    "plt.figure()\n",
    "plt.plot(taxrates, final_gini, 'k.')\n",
    "plt.xlabel('Tax Rate')\n",
    "plt.ylabel('Final Gini index')\n",
    "\n",
    "#plt.subplot(1,3,3) #Need to figure out how to plot final Gini coefficient to see how the taxation rate impacts it\n"
   ]
  },
  {
   "cell_type": "code",
   "execution_count": null,
   "metadata": {},
   "outputs": [],
   "source": [
    "#Add taxation and see how the final gini coefficient changes as you change taxation rate\n",
    "\n",
    "#For purpose of next exercise, you will only care about final point. Add taxes (subtract from each person a\n",
    "#portion of their wealth, and then redistribute )\n",
    "#Gini index will be close to 0 if your tax is extreme, and 1 if your tax is 0\n",
    "\n",
    "#one row to add taxes\n",
    "#one row to add giant outer loop that will go through each thing\n",
    "#one row in beginning to add place to store this \n",
    "#one row at end to plot it"
   ]
  },
  {
   "cell_type": "markdown",
   "metadata": {},
   "source": []
  }
 ],
 "metadata": {
  "kernelspec": {
   "display_name": "Python 3",
   "language": "python",
   "name": "python3"
  },
  "language_info": {
   "codemirror_mode": {
    "name": "ipython",
    "version": 3
   },
   "file_extension": ".py",
   "mimetype": "text/x-python",
   "name": "python",
   "nbconvert_exporter": "python",
   "pygments_lexer": "ipython3",
   "version": "3.7.4"
  }
 },
 "nbformat": 4,
 "nbformat_minor": 2
}
